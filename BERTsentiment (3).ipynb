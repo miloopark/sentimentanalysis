{
 "cells": [
  {
   "cell_type": "code",
   "execution_count": 18,
   "id": "d224cbdb",
   "metadata": {},
   "outputs": [
    {
     "name": "stdout",
     "output_type": "stream",
     "text": [
      "Looking in links: https://download.pytorch.org/whl/torch_stable.html\n",
      "Collecting torch==1.8.1\n",
      "  Using cached torch-1.8.1-cp39-none-macosx_10_9_x86_64.whl (119.6 MB)\n",
      "Collecting torchvision==0.9.1\n",
      "  Downloading torchvision-0.9.1-cp39-cp39-macosx_10_9_x86_64.whl (13.1 MB)\n",
      "\u001b[K     |████████████████████████████████| 13.1 MB 374 kB/s eta 0:00:01\n",
      "\u001b[?25hCollecting torchaudio===0.8.1\n",
      "  Downloading torchaudio-0.8.1-cp39-cp39-macosx_10_9_x86_64.whl (1.5 MB)\n",
      "\u001b[K     |████████████████████████████████| 1.5 MB 2.4 MB/s eta 0:00:01\n",
      "\u001b[?25hRequirement already satisfied: typing-extensions in /Users/milo/opt/anaconda3/lib/python3.9/site-packages (from torch==1.8.1) (4.1.1)\n",
      "Requirement already satisfied: numpy in /Users/milo/opt/anaconda3/lib/python3.9/site-packages (from torch==1.8.1) (1.21.5)\n",
      "Requirement already satisfied: pillow>=4.1.1 in /Users/milo/opt/anaconda3/lib/python3.9/site-packages (from torchvision==0.9.1) (9.0.1)\n",
      "Installing collected packages: torch, torchvision, torchaudio\n",
      "  Attempting uninstall: torch\n",
      "    Found existing installation: torch 1.13.1\n",
      "    Uninstalling torch-1.13.1:\n",
      "      Successfully uninstalled torch-1.13.1\n",
      "Successfully installed torch-1.8.1 torchaudio-0.8.1 torchvision-0.9.1\n"
     ]
    }
   ],
   "source": [
    "!pip install torch==1.8.1 torchvision==0.9.1 torchaudio===0.8.1 -f https://download.pytorch.org/whl/torch_stable.html"
   ]
  },
  {
   "cell_type": "code",
   "execution_count": 19,
   "id": "3c3230cb",
   "metadata": {},
   "outputs": [
    {
     "name": "stdout",
     "output_type": "stream",
     "text": [
      "Requirement already satisfied: transformers in /Users/milo/opt/anaconda3/lib/python3.9/site-packages (4.26.1)\n",
      "Requirement already satisfied: requests in /Users/milo/opt/anaconda3/lib/python3.9/site-packages (2.27.1)\n",
      "Requirement already satisfied: beautifulsoup4 in /Users/milo/opt/anaconda3/lib/python3.9/site-packages (4.11.1)\n",
      "Requirement already satisfied: pandas in /Users/milo/opt/anaconda3/lib/python3.9/site-packages (1.4.2)\n",
      "Requirement already satisfied: numpy in /Users/milo/opt/anaconda3/lib/python3.9/site-packages (1.21.5)\n",
      "Requirement already satisfied: pyyaml>=5.1 in /Users/milo/opt/anaconda3/lib/python3.9/site-packages (from transformers) (6.0)\n",
      "Requirement already satisfied: tqdm>=4.27 in /Users/milo/opt/anaconda3/lib/python3.9/site-packages (from transformers) (4.64.0)\n",
      "Requirement already satisfied: regex!=2019.12.17 in /Users/milo/opt/anaconda3/lib/python3.9/site-packages (from transformers) (2022.3.15)\n",
      "Requirement already satisfied: huggingface-hub<1.0,>=0.11.0 in /Users/milo/opt/anaconda3/lib/python3.9/site-packages (from transformers) (0.12.0)\n",
      "Requirement already satisfied: tokenizers!=0.11.3,<0.14,>=0.11.1 in /Users/milo/opt/anaconda3/lib/python3.9/site-packages (from transformers) (0.13.2)\n",
      "Requirement already satisfied: filelock in /Users/milo/opt/anaconda3/lib/python3.9/site-packages (from transformers) (3.6.0)\n",
      "Requirement already satisfied: packaging>=20.0 in /Users/milo/opt/anaconda3/lib/python3.9/site-packages (from transformers) (21.3)\n",
      "Requirement already satisfied: charset-normalizer~=2.0.0 in /Users/milo/opt/anaconda3/lib/python3.9/site-packages (from requests) (2.0.4)\n",
      "Requirement already satisfied: urllib3<1.27,>=1.21.1 in /Users/milo/opt/anaconda3/lib/python3.9/site-packages (from requests) (1.26.9)\n",
      "Requirement already satisfied: idna<4,>=2.5 in /Users/milo/opt/anaconda3/lib/python3.9/site-packages (from requests) (3.3)\n",
      "Requirement already satisfied: certifi>=2017.4.17 in /Users/milo/opt/anaconda3/lib/python3.9/site-packages (from requests) (2021.10.8)\n",
      "Requirement already satisfied: soupsieve>1.2 in /Users/milo/opt/anaconda3/lib/python3.9/site-packages (from beautifulsoup4) (2.3.1)\n",
      "Requirement already satisfied: python-dateutil>=2.8.1 in /Users/milo/opt/anaconda3/lib/python3.9/site-packages (from pandas) (2.8.2)\n",
      "Requirement already satisfied: pytz>=2020.1 in /Users/milo/opt/anaconda3/lib/python3.9/site-packages (from pandas) (2021.3)\n",
      "Requirement already satisfied: typing-extensions>=3.7.4.3 in /Users/milo/opt/anaconda3/lib/python3.9/site-packages (from huggingface-hub<1.0,>=0.11.0->transformers) (4.1.1)\n",
      "Requirement already satisfied: pyparsing!=3.0.5,>=2.0.2 in /Users/milo/opt/anaconda3/lib/python3.9/site-packages (from packaging>=20.0->transformers) (3.0.4)\n",
      "Requirement already satisfied: six>=1.5 in /Users/milo/opt/anaconda3/lib/python3.9/site-packages (from python-dateutil>=2.8.1->pandas) (1.16.0)\n"
     ]
    }
   ],
   "source": [
    "!pip install transformers requests beautifulsoup4 pandas numpy"
   ]
  },
  {
   "cell_type": "code",
   "execution_count": 3,
   "id": "10ad3821",
   "metadata": {},
   "outputs": [],
   "source": [
    "from transformers import AutoTokenizer, AutoModelForSequenceClassification\n",
    "import torch\n",
    "import requests\n",
    "from bs4 import BeautifulSoup\n",
    "import re"
   ]
  },
  {
   "cell_type": "code",
   "execution_count": 4,
   "id": "0fd9996f",
   "metadata": {},
   "outputs": [],
   "source": [
    "tokenizer = AutoTokenizer.from_pretrained('nlptown/bert-base-multilingual-uncased-sentiment')"
   ]
  },
  {
   "cell_type": "code",
   "execution_count": 5,
   "id": "fa824b86",
   "metadata": {},
   "outputs": [],
   "source": [
    "model = AutoModelForSequenceClassification.from_pretrained('nlptown/bert-base-multilingual-uncased-sentiment')"
   ]
  },
  {
   "cell_type": "code",
   "execution_count": 6,
   "id": "bb2d49c3",
   "metadata": {},
   "outputs": [],
   "source": [
    "tokens = tokenizer.encode('It was good but couldve been better. Great', return_tensors='pt')"
   ]
  },
  {
   "cell_type": "code",
   "execution_count": 7,
   "id": "01f0fe90",
   "metadata": {},
   "outputs": [],
   "source": [
    "result = model(tokens)"
   ]
  },
  {
   "cell_type": "code",
   "execution_count": 8,
   "id": "2538b66c",
   "metadata": {},
   "outputs": [
    {
     "data": {
      "text/plain": [
       "tensor([[-2.7768, -1.2353,  1.4419,  1.9804,  0.4584]],\n",
       "       grad_fn=<AddmmBackward>)"
      ]
     },
     "execution_count": 8,
     "metadata": {},
     "output_type": "execute_result"
    }
   ],
   "source": [
    "result.logits"
   ]
  },
  {
   "cell_type": "code",
   "execution_count": 9,
   "id": "4713c1ac",
   "metadata": {},
   "outputs": [
    {
     "data": {
      "text/plain": [
       "4"
      ]
     },
     "execution_count": 9,
     "metadata": {},
     "output_type": "execute_result"
    }
   ],
   "source": [
    "int(torch.argmax(result.logits))+1"
   ]
  },
  {
   "cell_type": "code",
   "execution_count": 22,
   "id": "c2fe82ca",
   "metadata": {},
   "outputs": [],
   "source": [
    "r = requests.get('https://www.yelp.com/biz/mariel-boston-3')\n",
    "soup = BeautifulSoup(r.text, 'html.parser')\n",
    "regex = re.compile('.*comment.*')\n",
    "results = soup.find_all('p', {'class':regex})\n",
    "reviews = [result.text for result in results]"
   ]
  },
  {
   "cell_type": "code",
   "execution_count": 23,
   "id": "3e61c6b9",
   "metadata": {},
   "outputs": [
    {
     "data": {
      "text/plain": [
       "[\"The ambiance is amazing, but the food was underwhelming. we ordered 2 apps and 2 small plates to share, and I wouldn't reorder anything if I went back. also, our food came out within 3 minutes of ordering it-that was awkward and left us feeling like it wasn't made to order. our waiter was lovely, though!\",\n",
       " 'Great time at Mariel- wonderful service, gorgeous interior with romantic ambiance, and the food/drinks exceeded expectations. In particular, we loved the fufu gnocchi and the mojito. Feels like a special place to celebrate an occasion. We ordered:+ Yuca Cheese Puffs+ Chicken Tots+ Steak Churrasco + Fufu GnocchiDrinks+Lulo Daiquiri+Old Habana (Guava) Mojito',\n",
       " \"You come here for the ambiance. The food here is good and they're served tapas styled, but a bit overpriced. The ambiance though is top tier. Its trendy, artsy, dimly lit and my friend says it looks like Cuba inside. I've been here a couple of times. The last time was on a Saturday night and we hung out by the bar. The DJ was ON POINT playing R'N'B, Afrobeats, and reggaeton. People weren't dancing dancing, but the vibe was energetic AF and it's packed. In fact I've been on a Wednesday and it was packed too. Mostly everyone is dressed up. They do have a dance club downstairs, I've never been and there's always a line on the weekend. We ordered a flaming mojito that you can pour from the bottom and can serve like 12 + drinks from for about $100. Amazing! If you're looking for a young crowd (20's and 30's) and upscale with a Cuban vibe, Mariel is it. Easily one of the best hang out spots in Boston. I'm definitely coming back!!\",\n",
       " \"I have been wanting to come to Mariels tor the longest time and finally came here and last night. The restaurant is very beautifully decorated and the ambiance is amazing. The music isn't too loud and the service is top notch. Our waitress was very attentive that night and food was brought out very fast. My only complaint was that my calamari was very very very salty. I always get calamari at other places because you can't go wrong with calamari but somehow they managed to make it taste very bad, which was disappointing. I did enjoy the Yuca cheese puffs and my Pina Colada drink so I will give them that. I will definitely come back in the future to try the rest of the other food items on the menu, I loved the service. Hopefully next time the food will be slightly better.\",\n",
       " \"Visited on a Saturday night in celebration of our wedding anniversary. We've been trying to make it Mariel for the longest time. We arrived 10 minutes early and our table wasn't quite ready. We grabbed a drink at the bar while we awaited seating. The bar and surrounding was jam packed but the bar tenders were very attentive and handed us a menu. We orders and old fashioned and a glass of wine. We marveled the architecture and the decor while sipping our drinks. We were seated promptly at 6:30 in the dining room. Sarah, our waitress, was wonderful, she saw uh oooh-ing and aw-ing over the daiquiri tree and allowed us to order one even though there was only two of us! The drinks and food were fantastic. Unfortunately we didn't save any room for dessert. All in all, it was a wonderfulExperience and we will most definitely be back.\",\n",
       " \"Cannot recommend this place enough! I have been here for many occasions, including my birthday the last two years, and have always had an amazing time. It's tapas style so you have to be ok with that - but honestly it gives you the ability to try some of everything, so it's really for the best! The food is so incredible so you can't go wrong with anything on the menu, but my 2 favorites are the guac and the tuna. Mouth watering!! They have cool drinks too like a flaming mojito and a chandelier with flaming strawberry daiquiris on it. Very insta worthy! The vibe of the place is incredible as well, but I'm not sure I would bring my parents here. The lighting is dim and they play loud music with a lot of base (which I LOVE, but know it's not for everyone). It's a very unique, Cuban-inspired spot and everyone should give it a try! They also have a basement with a club, which I did for my last birthday. They do 1 seating for the whole basement at 8pm and you get the table until 10, when they flip the table over to bottle service for the club. The perk is that you get a great meal with you friends and then you are already in the club and don't need to pay a cover or wait in line to get in. It was a great setup!\",\n",
       " \"The ambiance here is amazing. Honestly paying for that more so than for the food. The portions are pretty small and the giant Mimosa is pretty cool. Came here for a friends birthday and definitely the place to be! It's a mix of authentic, vintage and urban vibe. A little upscale but at the same time feels cozy. Definitely will come back at night seems to be a different vibe and I'd love to experience what that's like.\",\n",
       " 'I had such a great time here at Mariels. We came here for a casual brunch and was stunned at how gorgeous the interior was. A picture spot everywhere!We ordered the sweet corn arepas, pressed cubano, and yuca cheese puffs with some cocktails. The portions are really big so you can definitely take some home. Had a lovely time here!',\n",
       " 'Mariel is pricey but one of my favorite food places in Boston. Gnocchi, steak (comes with steak fries on top), and tuna are all amazing. Also got the strawberry and guava pitcher. Strawberry pitcher was bigger than guava pitcher.',\n",
       " \"Service, experience, tapas, unwired drinks, and solid decor.If your hungry, order double. Their tapas are small but unique. We preferred just getting drinks here.Awesome vibe throughout, even the bathroom.Service was great, drinks were strong, and the feel was an experience I'm glad we got to enjoy.Apparently they got a nightclub after 11, Mariel underground. We were hoping to check it out next time! Also, super awesome Christmas decor\"]"
      ]
     },
     "execution_count": 23,
     "metadata": {},
     "output_type": "execute_result"
    }
   ],
   "source": [
    "reviews"
   ]
  },
  {
   "cell_type": "code",
   "execution_count": 24,
   "id": "2bfbfe20",
   "metadata": {},
   "outputs": [],
   "source": [
    "import numpy as np\n",
    "import pandas as pd"
   ]
  },
  {
   "cell_type": "code",
   "execution_count": 25,
   "id": "1082a2c1",
   "metadata": {},
   "outputs": [],
   "source": [
    "df = pd.DataFrame(np.array(reviews), columns=['review'])"
   ]
  },
  {
   "cell_type": "code",
   "execution_count": 26,
   "id": "fc2ef712",
   "metadata": {},
   "outputs": [
    {
     "data": {
      "text/plain": [
       "\"The ambiance is amazing, but the food was underwhelming. we ordered 2 apps and 2 small plates to share, and I wouldn't reorder anything if I went back. also, our food came out within 3 minutes of ordering it-that was awkward and left us feeling like it wasn't made to order. our waiter was lovely, though!\""
      ]
     },
     "execution_count": 26,
     "metadata": {},
     "output_type": "execute_result"
    }
   ],
   "source": [
    "df['review'].iloc[0]"
   ]
  },
  {
   "cell_type": "code",
   "execution_count": 27,
   "id": "948112b1",
   "metadata": {},
   "outputs": [],
   "source": [
    "def sentiment_score(review):\n",
    "    tokens = tokenizer.encode(review, return_tensors='pt')\n",
    "    result = model(tokens)\n",
    "    return int(torch.argmax(result.logits))+1"
   ]
  },
  {
   "cell_type": "code",
   "execution_count": 28,
   "id": "ae232bb0",
   "metadata": {},
   "outputs": [
    {
     "data": {
      "text/plain": [
       "5"
      ]
     },
     "execution_count": 28,
     "metadata": {},
     "output_type": "execute_result"
    }
   ],
   "source": [
    "sentiment_score(df['review'].iloc[1])"
   ]
  },
  {
   "cell_type": "code",
   "execution_count": 29,
   "id": "72489cb4",
   "metadata": {},
   "outputs": [],
   "source": [
    "df['sentiment'] = df['review'].apply(lambda x: sentiment_score(x[:512]))"
   ]
  },
  {
   "cell_type": "code",
   "execution_count": 30,
   "id": "80d0a585",
   "metadata": {},
   "outputs": [
    {
     "data": {
      "text/html": [
       "<div>\n",
       "<style scoped>\n",
       "    .dataframe tbody tr th:only-of-type {\n",
       "        vertical-align: middle;\n",
       "    }\n",
       "\n",
       "    .dataframe tbody tr th {\n",
       "        vertical-align: top;\n",
       "    }\n",
       "\n",
       "    .dataframe thead th {\n",
       "        text-align: right;\n",
       "    }\n",
       "</style>\n",
       "<table border=\"1\" class=\"dataframe\">\n",
       "  <thead>\n",
       "    <tr style=\"text-align: right;\">\n",
       "      <th></th>\n",
       "      <th>review</th>\n",
       "      <th>sentiment</th>\n",
       "    </tr>\n",
       "  </thead>\n",
       "  <tbody>\n",
       "    <tr>\n",
       "      <th>0</th>\n",
       "      <td>The ambiance is amazing, but the food was unde...</td>\n",
       "      <td>3</td>\n",
       "    </tr>\n",
       "    <tr>\n",
       "      <th>1</th>\n",
       "      <td>Great time at Mariel- wonderful service, gorge...</td>\n",
       "      <td>5</td>\n",
       "    </tr>\n",
       "    <tr>\n",
       "      <th>2</th>\n",
       "      <td>You come here for the ambiance. The food here ...</td>\n",
       "      <td>3</td>\n",
       "    </tr>\n",
       "    <tr>\n",
       "      <th>3</th>\n",
       "      <td>I have been wanting to come to Mariels tor the...</td>\n",
       "      <td>4</td>\n",
       "    </tr>\n",
       "    <tr>\n",
       "      <th>4</th>\n",
       "      <td>Visited on a Saturday night in celebration of ...</td>\n",
       "      <td>5</td>\n",
       "    </tr>\n",
       "    <tr>\n",
       "      <th>5</th>\n",
       "      <td>Cannot recommend this place enough! I have bee...</td>\n",
       "      <td>2</td>\n",
       "    </tr>\n",
       "    <tr>\n",
       "      <th>6</th>\n",
       "      <td>The ambiance here is amazing. Honestly paying ...</td>\n",
       "      <td>4</td>\n",
       "    </tr>\n",
       "    <tr>\n",
       "      <th>7</th>\n",
       "      <td>I had such a great time here at Mariels. We ca...</td>\n",
       "      <td>5</td>\n",
       "    </tr>\n",
       "    <tr>\n",
       "      <th>8</th>\n",
       "      <td>Mariel is pricey but one of my favorite food p...</td>\n",
       "      <td>5</td>\n",
       "    </tr>\n",
       "    <tr>\n",
       "      <th>9</th>\n",
       "      <td>Service, experience, tapas, unwired drinks, an...</td>\n",
       "      <td>4</td>\n",
       "    </tr>\n",
       "  </tbody>\n",
       "</table>\n",
       "</div>"
      ],
      "text/plain": [
       "                                              review  sentiment\n",
       "0  The ambiance is amazing, but the food was unde...          3\n",
       "1  Great time at Mariel- wonderful service, gorge...          5\n",
       "2  You come here for the ambiance. The food here ...          3\n",
       "3  I have been wanting to come to Mariels tor the...          4\n",
       "4  Visited on a Saturday night in celebration of ...          5\n",
       "5  Cannot recommend this place enough! I have bee...          2\n",
       "6  The ambiance here is amazing. Honestly paying ...          4\n",
       "7  I had such a great time here at Mariels. We ca...          5\n",
       "8  Mariel is pricey but one of my favorite food p...          5\n",
       "9  Service, experience, tapas, unwired drinks, an...          4"
      ]
     },
     "execution_count": 30,
     "metadata": {},
     "output_type": "execute_result"
    }
   ],
   "source": [
    "df"
   ]
  },
  {
   "cell_type": "code",
   "execution_count": 31,
   "id": "9dc57430",
   "metadata": {},
   "outputs": [
    {
     "data": {
      "text/plain": [
       "\"I have been wanting to come to Mariels tor the longest time and finally came here and last night. The restaurant is very beautifully decorated and the ambiance is amazing. The music isn't too loud and the service is top notch. Our waitress was very attentive that night and food was brought out very fast. My only complaint was that my calamari was very very very salty. I always get calamari at other places because you can't go wrong with calamari but somehow they managed to make it taste very bad, which was disappointing. I did enjoy the Yuca cheese puffs and my Pina Colada drink so I will give them that. I will definitely come back in the future to try the rest of the other food items on the menu, I loved the service. Hopefully next time the food will be slightly better.\""
      ]
     },
     "execution_count": 31,
     "metadata": {},
     "output_type": "execute_result"
    }
   ],
   "source": [
    "df['review'].iloc[3]"
   ]
  },
  {
   "cell_type": "code",
   "execution_count": 32,
   "id": "b8389194",
   "metadata": {},
   "outputs": [
    {
     "data": {
      "text/plain": [
       "\"Visited on a Saturday night in celebration of our wedding anniversary. We've been trying to make it Mariel for the longest time. We arrived 10 minutes early and our table wasn't quite ready. We grabbed a drink at the bar while we awaited seating. The bar and surrounding was jam packed but the bar tenders were very attentive and handed us a menu. We orders and old fashioned and a glass of wine. We marveled the architecture and the decor while sipping our drinks. We were seated promptly at 6:30 in the dining room. Sarah, our waitress, was wonderful, she saw uh oooh-ing and aw-ing over the daiquiri tree and allowed us to order one even though there was only two of us! The drinks and food were fantastic. Unfortunately we didn't save any room for dessert. All in all, it was a wonderfulExperience and we will most definitely be back.\""
      ]
     },
     "execution_count": 32,
     "metadata": {},
     "output_type": "execute_result"
    }
   ],
   "source": [
    "df['review'].iloc[4]"
   ]
  },
  {
   "cell_type": "code",
   "execution_count": 34,
   "id": "cf15d88c",
   "metadata": {},
   "outputs": [],
   "source": [
    "r = requests.get('https://www.yelp.com/biz/ruka-restobar-boston')\n",
    "soup = BeautifulSoup(r.text, 'html.parser')\n",
    "regex = re.compile('.*comment.*')\n",
    "results = soup.find_all('p', {'class':regex})\n",
    "reviews = [result.text for result in results]"
   ]
  },
  {
   "cell_type": "code",
   "execution_count": 35,
   "id": "b9cf8dd9",
   "metadata": {},
   "outputs": [
    {
     "data": {
      "text/plain": [
       "['In town for business, had dinner here twice with a small group each time.Stayed at the Godfrey Busy on weeknights - incredible food, service, and will be back.',\n",
       " 'This place lives up to its raving reviews. If you plan to dine alone, you are lucky to get a seat at the bar. If you successfully do get a chair, I hope you consider ordering two items. I chose a serving of a dish with cooked trumpet mushrooms and crispy tofu to start. Then, I went for a sushi roll called Phoenix Sunrise, a roll with rice on the outside and topped with torched salmon. Both were delicious, but this roll was the star of the show. I also enjoyed the sake they had, which paired well with both dishes. The wait staff and the bar staff were nice and helpful. If you are dining alone, I would bring your work computer with you because it is a very busy and noisy restaurant. The food is great, but it can be difficult to hear yourself think. Also, this place is on the expensive side. However, if you are in Boston for business and you are staying at The Godfrey Hotel, I highly recommend Ruka.',\n",
       " \"All hits no misses is how I'd describe the food at this restaurant. Our waiter, David, went above and beyond to make my friends bday dinner an exceptional experience. He was super attentive for our large-ish party (8 of us), provided great recommendations while being extremely detailed, and prepared a sake float for the bday girl which she loved! Aesthetics: The ambiance is immediately captivating. It's grown and sexy with an air of mystique from the paintings to the overall detailed architecture which is a convo piece itself. Food: We had the Crispy Rock Sushi,Ruka Spicy Tuna, Phoenix Sunrise, Calamari, Hamachi Amarillo, King Tupac, Spicy peanut noodles, Chicken Fried Rice, Mongolian Beef, and Fried Dough Chachangas. Hopefully I captured it all! It's tapa style here so we ordered 2 dishes each to share. None of us had a complaint and before we even finished dinner, we were discussing when we'd be returning!\",\n",
       " 'I came here for a late night bite with a friend and was thoroughly impressed! We got a bottle of sake, which came in a fun ice tub filled with dry ice.We then shared the Tuna Katari, the king Tupac, the Lima Style Fried Calamari, and pork belly buns. The restaurant had great ambiance, and we really enjoyed all of the food that we ate! I definitely will return and look forward to trying more of the dishes on the menu!',\n",
       " \"Still 5 stars!The atmosphere is so fun, and good for a date night (if you don't mind it being a bit loud), a group outing and definitely a girls' night out!We went here before a show, and told the server, so everything came out really fast. We shared a bunch of dishes and each one was so delicious. I love the plating as well - so gorgeous. I would definitely come back, as there were a lot of menu items I would love to try, and some dishes I want again!\",\n",
       " 'It was so hard to decide what to get! Everything sounded great - and we really enjoyed everything we ate. It doesn\\'t say anywhere on the menu that it\\'s small plates, so it was nice that the waiter told us. And I think the menu descriptions could be a bit more...descriptive? For several plates, we said \"this isn\\'t what we expected!\" My friend and I ended up splitting:-BBQ Eggplant roll (yum) and Scattered Sushi (very surprised at the plate that showed up, but my friend loved it), as it was 2-for-1 Sushi -Salchipapas: basically their version of poutine - a plate of delicious fries. Super yum, but we thought it would be more hot dog (there were strips of hot dogs) than fries. -Chicken Fried Rice: YUM! Probably both our favorite dish-Plancha Broccoli: very tasty, but the broccoli pieces were HUGE and hard to cut. The lentil fritters weren\\'t what I expected either - they were more like shoestringsWe both got the Gordon Gekko (an apricot margarita), which was smokier than anticipated. I don\\'t usually enjoy smokey, but I drank it anyway. They did accidentally charge us for both sushi rolls, so we had to fix that, and we were in a rush to make a show, so that was a bit disappointing. And the table next to us got about 4 wrong dishes - and were charged for them. Not my experience, but they were seeing the same show as us, so we felt bad for them. Overall I really liked it and would definitely go back, as there were a lot of dishes I wanted to try and everything we did have was delicious.',\n",
       " 'Nothing but good things for this place! The ambience was groovy and the music was just right! The best part of this place was the drinks! I got the Peruvian sangria and I had to stop myself for slurping it down. For the food we ordered rock shrimp and the dragon sushi meal! We also ordered the calamari which was really good! Overall amazing night out! Oh I forgot her name but our service was not only stunning but such a sweetheart! I would go back!',\n",
       " \"The server Chris was fantastic, he was extremely personable in all the right ways and guided us through any questions we had on the Menu. His thoughtfulness really showed. What I will say about the waitstaff is it's odd they are in t shirts and some wearing crocs. For the price point and location of Ruka I really would expect something more upscale and fitting. It seemed a little out of place. I'm no prude, and am not saying they need uniforms, but something a little more sophisticated that a blue t shirt and crocs would be a welcomed change.The food was thoughtful in its designed, and despite my reservations the Peruvian and Japanese themes were mixed very well. The Phoenix sunrise lived up to expectations, it was complex, variety of textured, and it's flavoured evolved on your palette. The Hamachi Amarillo did as well, my personal favorite. The tuna played nicely with everything. The chicken was a table favourite, it features pineapple prominently and does that well. Pineapple is a hard flavour to play with. The ceviche though I wish was a little more traditional and fish forward. It tasted like they were trying to play the dish a little too safe for the trendy crowd that frequents. I think they can and should challenge the typical palette here in Boston a little more.The Demon slayer sake was very smooth. While I'm not a typical sake drinker I think it paired nice and went down smooth. What a beautifully designed restaurant. The interior design of this restaurant is so well thought out. There are textures and sculptures that really fit so well. The lights are low but not too much.\",\n",
       " 'Great dinner last night in Boston with family. The atmosphere has a fun vibe with the walls decorated beautifully. The cocktails were good. The food we ordered was peanut noodles, Mongolian beef, shrimp sushi rolls. The dessert dough type balls with ice cream was a great ending. We shared hot tea with dessert in a nice communal pot for the 3 of us.',\n",
       " 'Food was overall very average. The korean steak tartare is good, but it\\'s hard to mess up steak tartare. The pork yakisoba was disappointing, it was just overcooked yakisoba in way too much sauce with four *very* thin strips of bacon on top of stir fried ramen noodles with some typical ramen veggies in it. It\\'s the type of thing I would make at home when I\\'m too lazy to cook and it would probably cost like 5$ lol (costs $19 here). The tako meshi was just normal fried rice with six pieces of extremely dry and overcooked grilled octopus on it.I know this is Peruvian/Japanese fusion, but I feel like the fusion made the original taste worse. I felt it was almost gimmicky, like fusion for the sake of fusion without genuine consideration of how the ingredients and cooking methods would taste together. I was looking for some non alcoholic drink options because I did not want to drink, but the only thing is \"tea service\" for 50$? Truly dumbfounded. First, this is not \"caviar service\", tea is a very normal drink for asian people so I don\\'t get why they would try to sell it like caviar. I\\'ve been to $280/person omakase places and the most expensive teas were still only $25 per pot. For that $50, they did not even offer high quality branded traditional tea (if it was a good Gyokuro or Qi Lan Xiang it would be totally fine.) It was some weird tropical fruity blend. \\xa0Also the servers were a bit off. Not very attentive, it was rather difficult to get a refill of water.Overall would not recommend.',\n",
       " 'Amazing place! Every time I go to Ruka is a different paladar experience! Love this place']"
      ]
     },
     "execution_count": 35,
     "metadata": {},
     "output_type": "execute_result"
    }
   ],
   "source": [
    "reviews"
   ]
  },
  {
   "cell_type": "code",
   "execution_count": 36,
   "id": "b331dbfa",
   "metadata": {},
   "outputs": [],
   "source": [
    "import numpy as np\n",
    "import pandas as pd"
   ]
  },
  {
   "cell_type": "code",
   "execution_count": 37,
   "id": "73d02ec8",
   "metadata": {},
   "outputs": [],
   "source": [
    "df = pd.DataFrame(np.array(reviews), columns=['review'])"
   ]
  },
  {
   "cell_type": "code",
   "execution_count": 38,
   "id": "5b8c8bf5",
   "metadata": {},
   "outputs": [],
   "source": [
    "def sentiment_score(review):\n",
    "    tokens = tokenizer.encode(review, return_tensors='pt')\n",
    "    result = model(tokens)\n",
    "    return int(torch.argmax(result.logits))+1"
   ]
  },
  {
   "cell_type": "code",
   "execution_count": 39,
   "id": "18aa66ad",
   "metadata": {},
   "outputs": [
    {
     "data": {
      "text/plain": [
       "4"
      ]
     },
     "execution_count": 39,
     "metadata": {},
     "output_type": "execute_result"
    }
   ],
   "source": [
    "sentiment_score(df['review'].iloc[1])"
   ]
  },
  {
   "cell_type": "code",
   "execution_count": 40,
   "id": "d40e841d",
   "metadata": {},
   "outputs": [],
   "source": [
    "df['sentiment'] = df['review'].apply(lambda x: sentiment_score(x[:512]))"
   ]
  },
  {
   "cell_type": "code",
   "execution_count": 41,
   "id": "e315d744",
   "metadata": {},
   "outputs": [
    {
     "data": {
      "text/html": [
       "<div>\n",
       "<style scoped>\n",
       "    .dataframe tbody tr th:only-of-type {\n",
       "        vertical-align: middle;\n",
       "    }\n",
       "\n",
       "    .dataframe tbody tr th {\n",
       "        vertical-align: top;\n",
       "    }\n",
       "\n",
       "    .dataframe thead th {\n",
       "        text-align: right;\n",
       "    }\n",
       "</style>\n",
       "<table border=\"1\" class=\"dataframe\">\n",
       "  <thead>\n",
       "    <tr style=\"text-align: right;\">\n",
       "      <th></th>\n",
       "      <th>review</th>\n",
       "      <th>sentiment</th>\n",
       "    </tr>\n",
       "  </thead>\n",
       "  <tbody>\n",
       "    <tr>\n",
       "      <th>0</th>\n",
       "      <td>In town for business, had dinner here twice wi...</td>\n",
       "      <td>5</td>\n",
       "    </tr>\n",
       "    <tr>\n",
       "      <th>1</th>\n",
       "      <td>This place lives up to its raving reviews. If ...</td>\n",
       "      <td>4</td>\n",
       "    </tr>\n",
       "    <tr>\n",
       "      <th>2</th>\n",
       "      <td>All hits no misses is how I'd describe the foo...</td>\n",
       "      <td>5</td>\n",
       "    </tr>\n",
       "    <tr>\n",
       "      <th>3</th>\n",
       "      <td>I came here for a late night bite with a frien...</td>\n",
       "      <td>2</td>\n",
       "    </tr>\n",
       "    <tr>\n",
       "      <th>4</th>\n",
       "      <td>Still 5 stars!The atmosphere is so fun, and go...</td>\n",
       "      <td>5</td>\n",
       "    </tr>\n",
       "    <tr>\n",
       "      <th>5</th>\n",
       "      <td>It was so hard to decide what to get! Everythi...</td>\n",
       "      <td>2</td>\n",
       "    </tr>\n",
       "    <tr>\n",
       "      <th>6</th>\n",
       "      <td>Nothing but good things for this place! The am...</td>\n",
       "      <td>5</td>\n",
       "    </tr>\n",
       "    <tr>\n",
       "      <th>7</th>\n",
       "      <td>The server Chris was fantastic, he was extreme...</td>\n",
       "      <td>4</td>\n",
       "    </tr>\n",
       "    <tr>\n",
       "      <th>8</th>\n",
       "      <td>Great dinner last night in Boston with family....</td>\n",
       "      <td>5</td>\n",
       "    </tr>\n",
       "    <tr>\n",
       "      <th>9</th>\n",
       "      <td>Food was overall very average. The korean stea...</td>\n",
       "      <td>3</td>\n",
       "    </tr>\n",
       "    <tr>\n",
       "      <th>10</th>\n",
       "      <td>Amazing place! Every time I go to Ruka is a di...</td>\n",
       "      <td>5</td>\n",
       "    </tr>\n",
       "  </tbody>\n",
       "</table>\n",
       "</div>"
      ],
      "text/plain": [
       "                                               review  sentiment\n",
       "0   In town for business, had dinner here twice wi...          5\n",
       "1   This place lives up to its raving reviews. If ...          4\n",
       "2   All hits no misses is how I'd describe the foo...          5\n",
       "3   I came here for a late night bite with a frien...          2\n",
       "4   Still 5 stars!The atmosphere is so fun, and go...          5\n",
       "5   It was so hard to decide what to get! Everythi...          2\n",
       "6   Nothing but good things for this place! The am...          5\n",
       "7   The server Chris was fantastic, he was extreme...          4\n",
       "8   Great dinner last night in Boston with family....          5\n",
       "9   Food was overall very average. The korean stea...          3\n",
       "10  Amazing place! Every time I go to Ruka is a di...          5"
      ]
     },
     "execution_count": 41,
     "metadata": {},
     "output_type": "execute_result"
    }
   ],
   "source": [
    "df"
   ]
  },
  {
   "cell_type": "code",
   "execution_count": 42,
   "id": "bfc67f83",
   "metadata": {},
   "outputs": [
    {
     "data": {
      "text/plain": [
       "'I came here for a late night bite with a friend and was thoroughly impressed! We got a bottle of sake, which came in a fun ice tub filled with dry ice.We then shared the Tuna Katari, the king Tupac, the Lima Style Fried Calamari, and pork belly buns. The restaurant had great ambiance, and we really enjoyed all of the food that we ate! I definitely will return and look forward to trying more of the dishes on the menu!'"
      ]
     },
     "execution_count": 42,
     "metadata": {},
     "output_type": "execute_result"
    }
   ],
   "source": [
    "df['review'].iloc[3]"
   ]
  },
  {
   "cell_type": "code",
   "execution_count": 50,
   "id": "ceedd344",
   "metadata": {},
   "outputs": [
    {
     "data": {
      "text/plain": [
       "4.6"
      ]
     },
     "execution_count": 50,
     "metadata": {},
     "output_type": "execute_result"
    }
   ],
   "source": [
    "score = 0\n",
    "for i in range(11):\n",
    "    score += sentiment_score(df['review'].iloc[i])\n",
    "score/10"
   ]
  },
  {
   "cell_type": "code",
   "execution_count": null,
   "id": "b88e01f0",
   "metadata": {},
   "outputs": [],
   "source": []
  }
 ],
 "metadata": {
  "kernelspec": {
   "display_name": "Python 3 (ipykernel)",
   "language": "python",
   "name": "python3"
  },
  "language_info": {
   "codemirror_mode": {
    "name": "ipython",
    "version": 3
   },
   "file_extension": ".py",
   "mimetype": "text/x-python",
   "name": "python",
   "nbconvert_exporter": "python",
   "pygments_lexer": "ipython3",
   "version": "3.9.12"
  }
 },
 "nbformat": 4,
 "nbformat_minor": 5
}
